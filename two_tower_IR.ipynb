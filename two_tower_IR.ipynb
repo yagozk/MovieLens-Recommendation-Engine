{
  "nbformat": 4,
  "nbformat_minor": 0,
  "metadata": {
    "colab": {
      "provenance": []
    },
    "kernelspec": {
      "name": "python3",
      "display_name": "Python 3"
    },
    "language_info": {
      "name": "python"
    }
  },
  "cells": [
    {
      "cell_type": "code",
      "source": [
        "!pip install -q tensorflow-ranking\n",
        "!pip install -q --upgrade tensorflow-datasets"
      ],
      "metadata": {
        "colab": {
          "base_uri": "https://localhost:8080/"
        },
        "id": "87gDqcufoEuw",
        "outputId": "c869ee94-32a0-433c-d048-635bca7251ac"
      },
      "execution_count": 1,
      "outputs": [
        {
          "output_type": "stream",
          "name": "stdout",
          "text": [
            "\u001b[31mERROR: pip's dependency resolver does not currently take into account all the packages that are installed. This behaviour is the source of the following dependency conflicts.\n",
            "tf-keras 2.17.0 requires tensorflow<2.18,>=2.17, but you have tensorflow 2.15.1 which is incompatible.\u001b[0m\u001b[31m\n",
            "\u001b[0m"
          ]
        }
      ]
    },
    {
      "cell_type": "code",
      "execution_count": 2,
      "metadata": {
        "id": "3cBrs7XslAPc"
      },
      "outputs": [],
      "source": [
        "from typing import Dict, Tuple\n",
        "\n",
        "import tensorflow as tf\n",
        "import tensorflow_datasets as tfds\n",
        "import tensorflow_ranking as tfr"
      ]
    },
    {
      "cell_type": "code",
      "source": [
        "# Ratings data.\n",
        "ratings = tfds.load('movielens/100k-ratings', split=\"train\")\n",
        "# Features of all the available movies.\n",
        "movies = tfds.load('movielens/100k-movies', split=\"train\")"
      ],
      "metadata": {
        "id": "5_Zh0WP1qK02"
      },
      "execution_count": 3,
      "outputs": []
    },
    {
      "cell_type": "code",
      "source": [
        "def preprocess_ratings(data):\n",
        "    return data.map(lambda x: {\n",
        "        \"user_id\": x[\"user_id\"],\n",
        "        \"movie_id\": x[\"movie_id\"],\n",
        "        \"timestamp\": x[\"timestamp\"],\n",
        "        \"user_rating\": x[\"user_rating\"],\n",
        "        \"movie_title\": x[\"movie_title\"],\n",
        "    })\n",
        "\n",
        "ratings = preprocess_ratings(ratings)\n",
        "\n",
        "# Display some examples\n",
        "for row in ratings.take(5).as_numpy_iterator():\n",
        "    print(row)"
      ],
      "metadata": {
        "colab": {
          "base_uri": "https://localhost:8080/"
        },
        "id": "aasKzKbLsf3h",
        "outputId": "d84adf0e-f3ba-42a0-8e79-de5c5feac845"
      },
      "execution_count": 4,
      "outputs": [
        {
          "output_type": "stream",
          "name": "stdout",
          "text": [
            "{'user_id': b'138', 'movie_id': b'357', 'timestamp': 879024327, 'user_rating': 4.0, 'movie_title': b\"One Flew Over the Cuckoo's Nest (1975)\"}\n",
            "{'user_id': b'92', 'movie_id': b'709', 'timestamp': 875654590, 'user_rating': 2.0, 'movie_title': b'Strictly Ballroom (1992)'}\n",
            "{'user_id': b'301', 'movie_id': b'412', 'timestamp': 882075110, 'user_rating': 4.0, 'movie_title': b'Very Brady Sequel, A (1996)'}\n",
            "{'user_id': b'60', 'movie_id': b'56', 'timestamp': 883326919, 'user_rating': 4.0, 'movie_title': b'Pulp Fiction (1994)'}\n",
            "{'user_id': b'197', 'movie_id': b'895', 'timestamp': 891409199, 'user_rating': 3.0, 'movie_title': b'Scream 2 (1997)'}\n"
          ]
        }
      ]
    },
    {
      "cell_type": "code",
      "source": [
        "# Build vocabularies to convert all user ids and all movie titles into integer indices for embedding layers:\n",
        "\n",
        "user_ids_vocabulary = tf.keras.layers.StringLookup(mask_token=None)\n",
        "user_ids_vocabulary.adapt(ratings.map(lambda x: x[\"user_id\"]).batch(2500))\n",
        "\n",
        "movie_titles_vocabulary = tf.keras.layers.StringLookup(mask_token=None)\n",
        "movie_titles_vocabulary.adapt(ratings.map(lambda x: x[\"movie_title\"]).batch(2500))"
      ],
      "metadata": {
        "id": "HqmxyWKyx9gP"
      },
      "execution_count": 9,
      "outputs": []
    },
    {
      "cell_type": "code",
      "source": [
        "# Group by user_id\n",
        "user_movie_dataset_train = ratings.group_by_window(\n",
        "    key_func= lambda x: user_ids_vocabulary(x[\"user_id\"]),\n",
        "    reduce_func=lambda key, dataset: dataset.batch(100),\n",
        "    window_size=100,\n",
        ")\n",
        "\n",
        "# for x in user_movie_dataset_train.take(1):\n",
        "#   for key, value in x.items():\n",
        "#     print(f\"Shape of {key}: {value.shape}\")\n",
        "#     print(f\"Example values of {key}: {value[:5].numpy()}\")"
      ],
      "metadata": {
        "id": "ZAK-2C5G3uY3"
      },
      "execution_count": 33,
      "outputs": []
    },
    {
      "cell_type": "code",
      "source": [
        "def extract_features_and_labels(example: Dict[str, tf.Tensor]) -> Tuple[Dict[str, tf.Tensor], tf.Tensor]:\n",
        "    # Extract the label (user_rating) and remove it from the dictionary\n",
        "    labels = example[\"user_rating\"]  # Save the label (user_rating)\n",
        "    features = {key: value for key, value in example.items() if key != \"user_rating\"}  # Keep other features\n",
        "    return features, labels\n",
        "\n",
        "user_movie_dataset_train = user_movie_dataset_train.map(extract_features_and_labels) # Now features and labels are splitted in tuples\n",
        "\n",
        "# Convert the dataset into batches\n",
        "user_movie_dataset_train = user_movie_dataset_train.apply(\n",
        "    tf.data.experimental.dense_to_ragged_batch(batch_size=32)\n",
        ")"
      ],
      "metadata": {
        "id": "d-tEiX785OYl"
      },
      "execution_count": 34,
      "outputs": []
    },
    {
      "cell_type": "code",
      "source": [
        "for x, label in user_movie_dataset_train.take(1):\n",
        "  for key, value in x.items():\n",
        "    print(f\"Shape of {key}: {value.shape}\")\n",
        "    print(f\"Example values of {key}: {value[10:12, 10:12].numpy()}\")\n",
        "    print()\n",
        "  print(f\"Shape of label: {label.shape}\")\n",
        "  print(f\"Example values of label: {label[10:12, 10:12].numpy()}\")"
      ],
      "metadata": {
        "colab": {
          "base_uri": "https://localhost:8080/"
        },
        "id": "5MgMZNTI76Yr",
        "outputId": "80fa19bb-5826-4811-e80b-2aac08c93a2b"
      },
      "execution_count": 36,
      "outputs": [
        {
          "output_type": "stream",
          "name": "stdout",
          "text": [
            "Shape of user_id: (32, None)\n",
            "Example values of user_id: [[b'279' b'279']\n",
            " [b'276' b'276']]\n",
            "\n",
            "Shape of movie_id: (32, None)\n",
            "Example values of movie_id: [[b'660' b'864']\n",
            " [b'21' b'257']]\n",
            "\n",
            "Shape of timestamp: (32, None)\n",
            "Example values of timestamp: [[875313473 875296829]\n",
            " [874787195 874786657]]\n",
            "\n",
            "Shape of movie_title: (32, None)\n",
            "Example values of movie_title: [[b'Fried Green Tomatoes (1991)' b'My Fellow Americans (1996)']\n",
            " [b'Muppet Treasure Island (1996)' b'Men in Black (1997)']]\n",
            "\n",
            "Shape of label: (32, None)\n",
            "Example values of label: [[4. 5.]\n",
            " [3. 4.]]\n"
          ]
        }
      ]
    },
    {
      "cell_type": "code",
      "source": [
        "class TwoTowerMoviesModel(tf.keras.Model):\n",
        "  def __init__(self, user_ids, movie_titles):\n",
        "    super().__init__()\n",
        "\n",
        "    self.user_ids = user_ids\n",
        "    self.movie_titles = movie_titles\n",
        "\n",
        "    self.user_embedding_layer = tf.keras.layers.Embedding(\n",
        "        input_dim=user_ids.vocabulary_size(),\n",
        "        output_dim=64,\n",
        "    )\n",
        "    self.movie_embedding_layer = tf.keras.layers.Embedding(\n",
        "        input_dim=movie_titles.vocabulary_size(),\n",
        "        output_dim=64,\n",
        "    )\n",
        "\n",
        "  def call(self, features: Dict[str, tf.Tensor]) -> tf.Tensor:\n",
        "    user_embeddings = self.user_embedding_layer(self.user_ids(features[\"user_id\"]))\n",
        "    movie_embeddings = self.movie_embedding_layer(\n",
        "        self.movie_titles(features[\"movie_title\"]))\n",
        "\n",
        "    return tf.reduce_sum(user_embeddings * movie_embeddings, axis=2)\n",
        "\n",
        "# Create the ranking model, trained with a ranking loss and evaluated with\n",
        "# ranking metrics.\n",
        "model = TwoTowerMoviesModel(user_ids_vocabulary, movie_titles_vocabulary)\n",
        "optimizer = tf.keras.optimizers.Adagrad(0.5)\n",
        "loss = tfr.keras.losses.get(\n",
        "    loss=tfr.keras.losses.RankingLossKey.SOFTMAX_LOSS, ragged=True\n",
        ")\n",
        "eval_metrics = [\n",
        "    tfr.keras.metrics.get(tfr.keras.metrics.RankingMetricKey.NDCG, ragged=True),\n",
        "    tfr.keras.metrics.get(tfr.keras.metrics.RankingMetricKey.MRR, ragged=True),\n",
        "    tfr.keras.metrics.get(tfr.keras.metrics.RankingMetricKey.MAP, ragged=True),\n",
        "    tfr.keras.metrics.get(tfr.keras.metrics.RankingMetricKey.HITS, topn = 100, ragged=True),\n",
        "]\n",
        "model.compile(optimizer=optimizer, loss=loss, metrics=eval_metrics)"
      ],
      "metadata": {
        "id": "lkbhiGg38Z3V"
      },
      "execution_count": 80,
      "outputs": []
    },
    {
      "cell_type": "code",
      "source": [
        "import matplotlib.pyplot as plt\n",
        "\n",
        "# Fit the model and store the history\n",
        "history = model.fit(user_movie_dataset_train, epochs=5)"
      ],
      "metadata": {
        "colab": {
          "base_uri": "https://localhost:8080/"
        },
        "id": "h_z9yVd5_Lzu",
        "outputId": "7dbf7e81-b7b1-4b01-a4f7-a2ad4b11191f"
      },
      "execution_count": 84,
      "outputs": [
        {
          "output_type": "stream",
          "name": "stdout",
          "text": [
            "Epoch 1/5\n",
            "48/48 [==============================] - 6s 102ms/step - loss: 992.9807 - ndcg_metric_12: 0.9577 - mrr_metric_12: 1.0000 - mean_average_precision_metric_12: 1.0000 - hits_metric_4: 1.0000\n",
            "Epoch 2/5\n",
            "48/48 [==============================] - 6s 91ms/step - loss: 991.5983 - ndcg_metric_12: 0.9697 - mrr_metric_12: 1.0000 - mean_average_precision_metric_12: 1.0000 - hits_metric_4: 1.0000\n",
            "Epoch 3/5\n",
            "48/48 [==============================] - 6s 93ms/step - loss: 990.6965 - ndcg_metric_12: 0.9780 - mrr_metric_12: 1.0000 - mean_average_precision_metric_12: 1.0000 - hits_metric_4: 1.0000\n",
            "Epoch 4/5\n",
            "48/48 [==============================] - 6s 91ms/step - loss: 990.1336 - ndcg_metric_12: 0.9827 - mrr_metric_12: 1.0000 - mean_average_precision_metric_12: 1.0000 - hits_metric_4: 1.0000\n",
            "Epoch 5/5\n",
            "48/48 [==============================] - 6s 111ms/step - loss: 989.7628 - ndcg_metric_12: 0.9863 - mrr_metric_12: 1.0000 - mean_average_precision_metric_12: 1.0000 - hits_metric_4: 1.0000\n"
          ]
        }
      ]
    },
    {
      "cell_type": "code",
      "source": [
        "history_dict = history.history\n",
        "\n",
        "# Plot training loss\n",
        "plt.figure(figsize=(12, 6))\n",
        "plt.plot(history_dict['loss'], label='Training Loss')\n",
        "plt.title('Training Loss')\n",
        "plt.xlabel('Epochs')\n",
        "plt.ylabel('Loss')\n",
        "plt.legend()\n",
        "plt.show()\n"
      ],
      "metadata": {
        "colab": {
          "base_uri": "https://localhost:8080/",
          "height": 564
        },
        "id": "lXqin-3EJl5w",
        "outputId": "8688594d-e91d-4e24-d702-7717dc59ae28"
      },
      "execution_count": 85,
      "outputs": [
        {
          "output_type": "display_data",
          "data": {
            "text/plain": [
              "<Figure size 1200x600 with 1 Axes>"
            ],
            "image/png": "[encoded data removed]"
          },
          "metadata": {}
        }
      ]
    },
    {
      "cell_type": "code",
      "source": [
        "def display_user_rated_movies_and_recommendations(user_id, ratings_dataset, model, movies):\n",
        "    user_ratings = ratings.filter(lambda x: x['user_id'] == user_id)\n",
        "    movie_titles_rated = user_ratings.map(lambda x: x['movie_title'])\n",
        "    scores_rated = user_ratings.map(lambda x: x['user_rating'])\n",
        "\n",
        "    print(f\"Movies rated 5/5 by user {user_id}:\")\n",
        "    for title, score in zip(movie_titles_rated, scores_rated):\n",
        "      if score > 4:\n",
        "        print(f\"Movie: {title.numpy().decode('utf-8')}, Rating: {score.numpy()}\")\n",
        "\n",
        "    movie_titles = movies.batch(2000).take(1).get_single_element()  # Get a batch of movie titles\n",
        "    inputs = {\n",
        "        \"user_id\": tf.expand_dims(tf.repeat(user_id, repeats=movie_titles.shape[0]), axis=0),\n",
        "        \"movie_title\": tf.expand_dims(movie_titles, axis=0)\n",
        "    }\n",
        "\n",
        "    scores = model(inputs)\n",
        "    titles = tfr.utils.sort_by_scores(scores, [tf.expand_dims(movie_titles, axis=0)])[0]\n",
        "\n",
        "    print(f\"\\nTop 5 recommendations for user {user_id}:\")\n",
        "    for title in titles[0, :5]:\n",
        "        print(f\"Movie: {title.numpy().decode('utf-8')}\")\n",
        "\n",
        "display_user_rated_movies_and_recommendations(user_id=\"433\", ratings_dataset=ratings, model=model, movies=movies)\n"
      ],
      "metadata": {
        "colab": {
          "base_uri": "https://localhost:8080/"
        },
        "id": "mQG-5FLGJ5YN",
        "outputId": "a4e871cd-48d7-4cce-d36f-f729fa527e44"
      },
      "execution_count": 88,
      "outputs": [
        {
          "output_type": "stream",
          "name": "stdout",
          "text": [
            "Movies rated 5/5 by user 433:\n",
            "Movie: Raiders of the Lost Ark (1981), Rating: 5.0\n",
            "Movie: Usual Suspects, The (1995), Rating: 5.0\n",
            "Movie: Double vie de Véronique, La (Double Life of Veronique, The) (1991), Rating: 5.0\n",
            "Movie: Three Colors: Red (1994), Rating: 5.0\n",
            "Movie: Full Monty, The (1997), Rating: 5.0\n",
            "Movie: Three Colors: Blue (1993), Rating: 5.0\n",
            "Movie: Leaving Las Vegas (1995), Rating: 5.0\n",
            "Movie: L.A. Confidential (1997), Rating: 5.0\n",
            "Movie: Manchurian Candidate, The (1962), Rating: 5.0\n",
            "Movie: Sting, The (1973), Rating: 5.0\n",
            "Movie: Star Wars (1977), Rating: 5.0\n",
            "Movie: City of Lost Children, The (1995), Rating: 5.0\n",
            "Movie: Big Night (1996), Rating: 5.0\n",
            "Movie: English Patient, The (1996), Rating: 5.0\n",
            "\n",
            "Top 5 recommendations for user 433:\n",
            "Movie: My Life as a Dog (Mitt liv som hund) (1985)\n",
            "Movie: Lone Star (1996)\n",
            "Movie: Pulp Fiction (1994)\n",
            "Movie: Close Shave, A (1995)\n",
            "Movie: Wallace & Gromit: The Best of Aardman Animation (1996)\n"
          ]
        }
      ]
    }
  ]
}